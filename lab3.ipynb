{
  "cells": [
    {
      "cell_type": "code",
      "execution_count": 1,
      "metadata": {
        "colab": {
          "base_uri": "https://localhost:8080/"
        },
        "id": "AU2J9QFR96Mc",
        "outputId": "70eff830-4ded-485e-f613-9de8143406a0"
      },
      "outputs": [
        {
          "name": "stdout",
          "output_type": "stream",
          "text": [
            "Requirement already satisfied: pyspark in /usr/local/lib/python3.11/dist-packages (3.5.4)\n",
            "Requirement already satisfied: py4j==0.10.9.7 in /usr/local/lib/python3.11/dist-packages (from pyspark) (0.10.9.7)\n"
          ]
        }
      ],
      "source": [
        "# Install PySpark in Google Colab\n",
        "!pip install pyspark"
      ]
    },
    {
      "cell_type": "code",
      "execution_count": 3,
      "metadata": {
        "id": "QgBCl1WU-BUa"
      },
      "outputs": [],
      "source": [
        "# Import necessary libraries\n",
        "from pyspark.sql import SparkSession\n",
        "from pyspark.sql.functions import col, mean, when, count, regexp_replace\n",
        "import seaborn as sns\n",
        "import matplotlib.pyplot as plt\n",
        "import pandas as pd"
      ]
    },
    {
      "cell_type": "code",
      "execution_count": 4,
      "metadata": {
        "id": "DcpQwy1E-EUH"
      },
      "outputs": [],
      "source": [
        "# Initialize Spark Session\n",
        "spark = SparkSession.builder.appName(\"Lab3\").getOrCreate()"
      ]
    },
    {
      "cell_type": "code",
      "execution_count": 2,
      "metadata": {
        "colab": {
          "base_uri": "https://localhost:8080/",
          "height": 90
        },
        "id": "P04eSL4V-GGJ",
        "outputId": "57a9725d-aa90-4cd6-c4b9-4fab7e309aae"
      },
      "outputs": [
        {
          "name": "stdout",
          "output_type": "stream",
          "text": [
            "Please upload your dataset (CSV file)\n"
          ]
        },
        {
          "data": {
            "text/html": [
              "\n",
              "     <input type=\"file\" id=\"files-24723faa-3767-47d2-81fc-3e50b29fefab\" name=\"files[]\" multiple disabled\n",
              "        style=\"border:none\" />\n",
              "     <output id=\"result-24723faa-3767-47d2-81fc-3e50b29fefab\">\n",
              "      Upload widget is only available when the cell has been executed in the\n",
              "      current browser session. Please rerun this cell to enable.\n",
              "      </output>\n",
              "      <script>// Copyright 2017 Google LLC\n",
              "//\n",
              "// Licensed under the Apache License, Version 2.0 (the \"License\");\n",
              "// you may not use this file except in compliance with the License.\n",
              "// You may obtain a copy of the License at\n",
              "//\n",
              "//      http://www.apache.org/licenses/LICENSE-2.0\n",
              "//\n",
              "// Unless required by applicable law or agreed to in writing, software\n",
              "// distributed under the License is distributed on an \"AS IS\" BASIS,\n",
              "// WITHOUT WARRANTIES OR CONDITIONS OF ANY KIND, either express or implied.\n",
              "// See the License for the specific language governing permissions and\n",
              "// limitations under the License.\n",
              "\n",
              "/**\n",
              " * @fileoverview Helpers for google.colab Python module.\n",
              " */\n",
              "(function(scope) {\n",
              "function span(text, styleAttributes = {}) {\n",
              "  const element = document.createElement('span');\n",
              "  element.textContent = text;\n",
              "  for (const key of Object.keys(styleAttributes)) {\n",
              "    element.style[key] = styleAttributes[key];\n",
              "  }\n",
              "  return element;\n",
              "}\n",
              "\n",
              "// Max number of bytes which will be uploaded at a time.\n",
              "const MAX_PAYLOAD_SIZE = 100 * 1024;\n",
              "\n",
              "function _uploadFiles(inputId, outputId) {\n",
              "  const steps = uploadFilesStep(inputId, outputId);\n",
              "  const outputElement = document.getElementById(outputId);\n",
              "  // Cache steps on the outputElement to make it available for the next call\n",
              "  // to uploadFilesContinue from Python.\n",
              "  outputElement.steps = steps;\n",
              "\n",
              "  return _uploadFilesContinue(outputId);\n",
              "}\n",
              "\n",
              "// This is roughly an async generator (not supported in the browser yet),\n",
              "// where there are multiple asynchronous steps and the Python side is going\n",
              "// to poll for completion of each step.\n",
              "// This uses a Promise to block the python side on completion of each step,\n",
              "// then passes the result of the previous step as the input to the next step.\n",
              "function _uploadFilesContinue(outputId) {\n",
              "  const outputElement = document.getElementById(outputId);\n",
              "  const steps = outputElement.steps;\n",
              "\n",
              "  const next = steps.next(outputElement.lastPromiseValue);\n",
              "  return Promise.resolve(next.value.promise).then((value) => {\n",
              "    // Cache the last promise value to make it available to the next\n",
              "    // step of the generator.\n",
              "    outputElement.lastPromiseValue = value;\n",
              "    return next.value.response;\n",
              "  });\n",
              "}\n",
              "\n",
              "/**\n",
              " * Generator function which is called between each async step of the upload\n",
              " * process.\n",
              " * @param {string} inputId Element ID of the input file picker element.\n",
              " * @param {string} outputId Element ID of the output display.\n",
              " * @return {!Iterable<!Object>} Iterable of next steps.\n",
              " */\n",
              "function* uploadFilesStep(inputId, outputId) {\n",
              "  const inputElement = document.getElementById(inputId);\n",
              "  inputElement.disabled = false;\n",
              "\n",
              "  const outputElement = document.getElementById(outputId);\n",
              "  outputElement.innerHTML = '';\n",
              "\n",
              "  const pickedPromise = new Promise((resolve) => {\n",
              "    inputElement.addEventListener('change', (e) => {\n",
              "      resolve(e.target.files);\n",
              "    });\n",
              "  });\n",
              "\n",
              "  const cancel = document.createElement('button');\n",
              "  inputElement.parentElement.appendChild(cancel);\n",
              "  cancel.textContent = 'Cancel upload';\n",
              "  const cancelPromise = new Promise((resolve) => {\n",
              "    cancel.onclick = () => {\n",
              "      resolve(null);\n",
              "    };\n",
              "  });\n",
              "\n",
              "  // Wait for the user to pick the files.\n",
              "  const files = yield {\n",
              "    promise: Promise.race([pickedPromise, cancelPromise]),\n",
              "    response: {\n",
              "      action: 'starting',\n",
              "    }\n",
              "  };\n",
              "\n",
              "  cancel.remove();\n",
              "\n",
              "  // Disable the input element since further picks are not allowed.\n",
              "  inputElement.disabled = true;\n",
              "\n",
              "  if (!files) {\n",
              "    return {\n",
              "      response: {\n",
              "        action: 'complete',\n",
              "      }\n",
              "    };\n",
              "  }\n",
              "\n",
              "  for (const file of files) {\n",
              "    const li = document.createElement('li');\n",
              "    li.append(span(file.name, {fontWeight: 'bold'}));\n",
              "    li.append(span(\n",
              "        `(${file.type || 'n/a'}) - ${file.size} bytes, ` +\n",
              "        `last modified: ${\n",
              "            file.lastModifiedDate ? file.lastModifiedDate.toLocaleDateString() :\n",
              "                                    'n/a'} - `));\n",
              "    const percent = span('0% done');\n",
              "    li.appendChild(percent);\n",
              "\n",
              "    outputElement.appendChild(li);\n",
              "\n",
              "    const fileDataPromise = new Promise((resolve) => {\n",
              "      const reader = new FileReader();\n",
              "      reader.onload = (e) => {\n",
              "        resolve(e.target.result);\n",
              "      };\n",
              "      reader.readAsArrayBuffer(file);\n",
              "    });\n",
              "    // Wait for the data to be ready.\n",
              "    let fileData = yield {\n",
              "      promise: fileDataPromise,\n",
              "      response: {\n",
              "        action: 'continue',\n",
              "      }\n",
              "    };\n",
              "\n",
              "    // Use a chunked sending to avoid message size limits. See b/62115660.\n",
              "    let position = 0;\n",
              "    do {\n",
              "      const length = Math.min(fileData.byteLength - position, MAX_PAYLOAD_SIZE);\n",
              "      const chunk = new Uint8Array(fileData, position, length);\n",
              "      position += length;\n",
              "\n",
              "      const base64 = btoa(String.fromCharCode.apply(null, chunk));\n",
              "      yield {\n",
              "        response: {\n",
              "          action: 'append',\n",
              "          file: file.name,\n",
              "          data: base64,\n",
              "        },\n",
              "      };\n",
              "\n",
              "      let percentDone = fileData.byteLength === 0 ?\n",
              "          100 :\n",
              "          Math.round((position / fileData.byteLength) * 100);\n",
              "      percent.textContent = `${percentDone}% done`;\n",
              "\n",
              "    } while (position < fileData.byteLength);\n",
              "  }\n",
              "\n",
              "  // All done.\n",
              "  yield {\n",
              "    response: {\n",
              "      action: 'complete',\n",
              "    }\n",
              "  };\n",
              "}\n",
              "\n",
              "scope.google = scope.google || {};\n",
              "scope.google.colab = scope.google.colab || {};\n",
              "scope.google.colab._files = {\n",
              "  _uploadFiles,\n",
              "  _uploadFilesContinue,\n",
              "};\n",
              "})(self);\n",
              "</script> "
            ],
            "text/plain": [
              "<IPython.core.display.HTML object>"
            ]
          },
          "metadata": {},
          "output_type": "display_data"
        },
        {
          "name": "stdout",
          "output_type": "stream",
          "text": [
            "Saving Student_performance_data _.csv to Student_performance_data _.csv\n"
          ]
        }
      ],
      "source": [
        "# Upload CSV file\n",
        "from google.colab import files\n",
        "print(\"Please upload your dataset (CSV file)\")\n",
        "uploaded = files.upload()"
      ]
    },
    {
      "cell_type": "code",
      "execution_count": 6,
      "metadata": {
        "colab": {
          "base_uri": "https://localhost:8080/"
        },
        "id": "HLugUopR-MvZ",
        "outputId": "d68284e1-69f5-422e-c5fc-9fcfe9c337cd"
      },
      "outputs": [
        {
          "name": "stdout",
          "output_type": "stream",
          "text": [
            "\n",
            "✅ Uploaded File: Student_performance_data _.csv\n"
          ]
        }
      ],
      "source": [
        "file_name = list(uploaded.keys())[0]\n",
        "print(f\"\\n✅ Uploaded File: {file_name}\")"
      ]
    },
    {
      "cell_type": "code",
      "execution_count": 7,
      "metadata": {
        "id": "jExqjPNI-RDf"
      },
      "outputs": [],
      "source": [
        "# Load CSV into Spark DataFrame\n",
        "df = spark.read.csv(file_name, header=True, inferSchema=True)"
      ]
    },
    {
      "cell_type": "code",
      "execution_count": 8,
      "metadata": {
        "colab": {
          "base_uri": "https://localhost:8080/"
        },
        "id": "Dl_O4rHX-RsN",
        "outputId": "fce9f072-63b2-4ff3-8bb6-b532c3ed1064"
      },
      "outputs": [
        {
          "name": "stdout",
          "output_type": "stream",
          "text": [
            "\n",
            "📊 First 5 Rows of Dataset:\n",
            "+---------+---+------+---------+-----------------+------------------+--------+--------+---------------+---------------+------+-----+------------+------------------+----------+\n",
            "|StudentID|Age|Gender|Ethnicity|ParentalEducation|   StudyTimeWeekly|Absences|Tutoring|ParentalSupport|Extracurricular|Sports|Music|Volunteering|               GPA|GradeClass|\n",
            "+---------+---+------+---------+-----------------+------------------+--------+--------+---------------+---------------+------+-----+------------+------------------+----------+\n",
            "|     1001| 17|     1|        0|                2|19.833722807854713|       7|       1|              2|              0|     0|    1|           0| 2.929195591667681|       2.0|\n",
            "|     1002| 18|     0|        0|                1| 15.40875605584674|       0|       0|              1|              0|     0|    0|           0| 3.042914833436377|       1.0|\n",
            "|     1003| 15|     0|        2|                3|  4.21056976881226|      26|       0|              2|              0|     0|    0|           0|0.1126022544661815|       4.0|\n",
            "|     1004| 17|     1|        0|                3|10.028829473958215|      14|       0|              3|              1|     0|    0|           0|2.0542181397029484|       3.0|\n",
            "|     1005| 17|     1|        0|                2|4.6724952729713305|      17|       1|              3|              0|     0|    0|           0|1.2880611817953875|       4.0|\n",
            "+---------+---+------+---------+-----------------+------------------+--------+--------+---------------+---------------+------+-----+------------+------------------+----------+\n",
            "only showing top 5 rows\n",
            "\n"
          ]
        }
      ],
      "source": [
        "# Show first few rows\n",
        "print(\"\\n📊 First 5 Rows of Dataset:\")\n",
        "df.show(5)"
      ]
    },
    {
      "cell_type": "code",
      "execution_count": 9,
      "metadata": {
        "colab": {
          "base_uri": "https://localhost:8080/"
        },
        "id": "RdLQcR8--TsT",
        "outputId": "77edf680-d277-4158-bff8-df74d04cedb5"
      },
      "outputs": [
        {
          "name": "stdout",
          "output_type": "stream",
          "text": [
            "\n",
            "🔍 Checking for Missing Values:\n",
            "+---------+---+------+---------+-----------------+---------------+--------+--------+---------------+---------------+------+-----+------------+---+----------+\n",
            "|StudentID|Age|Gender|Ethnicity|ParentalEducation|StudyTimeWeekly|Absences|Tutoring|ParentalSupport|Extracurricular|Sports|Music|Volunteering|GPA|GradeClass|\n",
            "+---------+---+------+---------+-----------------+---------------+--------+--------+---------------+---------------+------+-----+------------+---+----------+\n",
            "|        0|  0|     0|        0|                0|              0|       0|       0|              0|              0|     0|    0|           0|  0|         0|\n",
            "+---------+---+------+---------+-----------------+---------------+--------+--------+---------------+---------------+------+-----+------------+---+----------+\n",
            "\n"
          ]
        }
      ],
      "source": [
        "# Check for missing values\n",
        "print(\"\\n🔍 Checking for Missing Values:\")\n",
        "missing_values = df.select([count(when(col(c).isNull(), c)).alias(c) for c in df.columns])\n",
        "missing_values.show()"
      ]
    },
    {
      "cell_type": "code",
      "execution_count": 13,
      "metadata": {
        "colab": {
          "base_uri": "https://localhost:8080/"
        },
        "id": "jp69qxgE-We0",
        "outputId": "183d9d8d-018c-416b-b286-93c1355a21a1"
      },
      "outputs": [
        {
          "name": "stdout",
          "output_type": "stream",
          "text": [
            "\n",
            "✅ Missing values filled!\n"
          ]
        }
      ],
      "source": [
        "# Fill missing values\n",
        "num_cols = [c[0] for c in df.dtypes if c[1] in ['int', 'double']]\n",
        "for col_name in num_cols:\n",
        "    mean_value = df.select(mean(col(col_name))).collect()[0][0]\n",
        "    df = df.fillna({col_name: mean_value})\n",
        "\n",
        "cat_cols = [c[0] for c in df.dtypes if c[1] == 'string']\n",
        "for col_name in cat_cols:\n",
        "    mode_value = df.groupBy(col_name).count().orderBy(col(\"count\").desc()).first()[0]\n",
        "    df = df.fillna({col_name: mode_value})\n",
        "\n",
        "print(\"\\n✅ Missing values filled!\")"
      ]
    },
    {
      "cell_type": "code",
      "execution_count": 14,
      "metadata": {
        "id": "Y6tH2nHA-d6b"
      },
      "outputs": [],
      "source": [
        "# Convert column names to lowercase and replace spaces with underscores\n",
        "for col_name in df.columns:\n",
        "    df = df.withColumnRenamed(col_name, col_name.lower().replace(\" \", \"_\"))\n",
        "\n",
        "\n"
      ]
    },
    {
      "cell_type": "code",
      "execution_count": 15,
      "metadata": {
        "colab": {
          "base_uri": "https://localhost:8080/"
        },
        "id": "W6nFg0aO-f6Q",
        "outputId": "706f4264-235f-4f07-dec9-56c47ecfb487"
      },
      "outputs": [
        {
          "name": "stdout",
          "output_type": "stream",
          "text": [
            "\n",
            "🔤 Updated Column Names: ['studentid', 'age', 'gender', 'ethnicity', 'parentaleducation', 'studytimeweekly', 'absences', 'tutoring', 'parentalsupport', 'extracurricular', 'sports', 'music', 'volunteering', 'gpa', 'gradeclass']\n"
          ]
        }
      ],
      "source": [
        "print(\"\\n🔤 Updated Column Names:\", df.columns)"
      ]
    },
    {
      "cell_type": "markdown",
      "metadata": {
        "id": "CfASastM_WRQ"
      },
      "source": []
    },
    {
      "cell_type": "code",
      "execution_count": 16,
      "metadata": {
        "colab": {
          "base_uri": "https://localhost:8080/"
        },
        "id": "QUObXj8A-kdr",
        "outputId": "9cc44009-4024-4244-ac75-e323094caff0"
      },
      "outputs": [
        {
          "name": "stdout",
          "output_type": "stream",
          "text": [
            "\n",
            "✅ Categorical Variables Encoded!\n",
            "+---------+---+------------------+--------+------+-----+------------+------------------+----------+--------------+-----------------+-------------------------+-----------------------+----------------+-----------------------+\n",
            "|studentid|age|   studytimeweekly|absences|sports|music|volunteering|               gpa|gradeclass|gender_encoded|ethnicity_encoded|parentaleducation_encoded|parentalsupport_encoded|tutoring_encoded|extracurricular_encoded|\n",
            "+---------+---+------------------+--------+------+-----+------------+------------------+----------+--------------+-----------------+-------------------------+-----------------------+----------------+-----------------------+\n",
            "|     1001| 17|19.833722807854713|       7|     0|    1|           0| 2.929195591667681|       2.0| (1,[0],[1.0])|    (3,[0],[1.0])|            (4,[0],[1.0])|          (4,[0],[1.0])|       (1,[],[])|          (1,[0],[1.0])|\n",
            "|     1002| 18| 15.40875605584674|       0|     0|    0|           0| 3.042914833436377|       1.0|     (1,[],[])|    (3,[0],[1.0])|            (4,[1],[1.0])|          (4,[2],[1.0])|   (1,[0],[1.0])|          (1,[0],[1.0])|\n",
            "|     1003| 15|  4.21056976881226|      26|     0|    0|           0|0.1126022544661815|       4.0|     (1,[],[])|    (3,[2],[1.0])|            (4,[2],[1.0])|          (4,[0],[1.0])|   (1,[0],[1.0])|          (1,[0],[1.0])|\n",
            "|     1004| 17|10.028829473958215|      14|     0|    0|           0|2.0542181397029484|       3.0| (1,[0],[1.0])|    (3,[0],[1.0])|            (4,[2],[1.0])|          (4,[1],[1.0])|   (1,[0],[1.0])|              (1,[],[])|\n",
            "|     1005| 17|4.6724952729713305|      17|     0|    0|           0|1.2880611817953875|       4.0| (1,[0],[1.0])|    (3,[0],[1.0])|            (4,[0],[1.0])|          (4,[1],[1.0])|       (1,[],[])|          (1,[0],[1.0])|\n",
            "+---------+---+------------------+--------+------+-----+------------+------------------+----------+--------------+-----------------+-------------------------+-----------------------+----------------+-----------------------+\n",
            "only showing top 5 rows\n",
            "\n"
          ]
        }
      ],
      "source": [
        "# Encode categorical variables using one-hot encoding\n",
        "cat_columns = ['gender', 'ethnicity', 'parentaleducation', 'parentalsupport', 'tutoring', 'extracurricular']\n",
        "valid_columns = [col for col in cat_columns if col in df.columns]\n",
        "\n",
        "if valid_columns:\n",
        "    from pyspark.ml.feature import StringIndexer, OneHotEncoder\n",
        "    from pyspark.ml import Pipeline\n",
        "\n",
        "    indexers = [StringIndexer(inputCol=col, outputCol=col + \"_index\") for col in valid_columns]\n",
        "    encoders = [OneHotEncoder(inputCol=col + \"_index\", outputCol=col + \"_encoded\") for col in valid_columns]\n",
        "\n",
        "    pipeline = Pipeline(stages=indexers + encoders)\n",
        "    df = pipeline.fit(df).transform(df)\n",
        "\n",
        "    # Drop original categorical columns and index columns\n",
        "    df = df.drop(*valid_columns, *[col + \"_index\" for col in valid_columns])\n",
        "\n",
        "print(\"\\n✅ Categorical Variables Encoded!\")\n",
        "df.show(5)\n"
      ]
    },
    {
      "cell_type": "code",
      "execution_count": 17,
      "metadata": {
        "colab": {
          "base_uri": "https://localhost:8080/"
        },
        "id": "9uZ8Ld-a-ml9",
        "outputId": "bed378fe-a979-4b41-ae2e-fecc05547d7e"
      },
      "outputs": [
        {
          "name": "stdout",
          "output_type": "stream",
          "text": [
            "\n",
            "📊 Average GPA by Gender:\n",
            "+--------------+------------------+\n",
            "|gender_encoded|           avg_gpa|\n",
            "+--------------+------------------+\n",
            "| (1,[0],[1.0])|1.8942253102389857|\n",
            "|     (1,[],[])| 1.918678894880205|\n",
            "+--------------+------------------+\n",
            "\n"
          ]
        }
      ],
      "source": [
        "# Compute average GPA by gender if columns exist\n",
        "if \"gpa\" in df.columns and \"gender_encoded\" in df.columns:\n",
        "    df_gpa_by_gender = df.groupBy(\"gender_encoded\").agg(mean(\"gpa\").alias(\"avg_gpa\"))\n",
        "    print(\"\\n📊 Average GPA by Gender:\")\n",
        "    df_gpa_by_gender.show()"
      ]
    },
    {
      "cell_type": "code",
      "execution_count": 18,
      "metadata": {
        "colab": {
          "base_uri": "https://localhost:8080/"
        },
        "id": "It8Xh5Bv-v6l",
        "outputId": "e539764a-e4ac-4066-c6ee-6f9826430837"
      },
      "outputs": [
        {
          "name": "stdout",
          "output_type": "stream",
          "text": [
            "\n",
            "✅ Cleaned dataset saved as 'cleaned_dataset_spark.csv'!\n"
          ]
        }
      ],
      "source": [
        "# Save cleaned dataset as CSV\n",
        "cleaned_file_path = \"/content/cleaned_dataset_spark.csv\"\n",
        "df.toPandas().to_csv(cleaned_file_path, index=False)\n",
        "\n",
        "print(\"\\n✅ Cleaned dataset saved as 'cleaned_dataset_spark.csv'!\")"
      ]
    }
  ],
  "metadata": {
    "colab": {
      "provenance": []
    },
    "kernelspec": {
      "display_name": "Python 3",
      "name": "python3"
    },
    "language_info": {
      "name": "python"
    }
  },
  "nbformat": 4,
  "nbformat_minor": 0
}
